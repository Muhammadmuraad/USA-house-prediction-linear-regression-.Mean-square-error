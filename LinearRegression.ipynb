{
  "nbformat": 4,
  "nbformat_minor": 0,
  "metadata": {
    "colab": {
      "private_outputs": true,
      "provenance": [],
      "mount_file_id": "1Am4uJ6c-bbLu6jXbiJQZ39yXp6JFwfG9",
      "authorship_tag": "ABX9TyOw+eLP5e9CYXIS9Cbn3WYo",
      "include_colab_link": true
    },
    "kernelspec": {
      "name": "python3",
      "display_name": "Python 3"
    },
    "language_info": {
      "name": "python"
    }
  },
  "cells": [
    {
      "cell_type": "markdown",
      "metadata": {
        "id": "view-in-github",
        "colab_type": "text"
      },
      "source": [
        "<a href=\"https://colab.research.google.com/github/Muhammadmuraad/Muhammadmuraad/blob/main/lecture_17.ipynb\" target=\"_parent\"><img src=\"https://colab.research.google.com/assets/colab-badge.svg\" alt=\"Open In Colab\"/></a>"
      ]
    },
    {
      "cell_type": "markdown",
      "source": [
        "# USA Houses Prices Prediction\n",
        "# **Linear Regression**"
      ],
      "metadata": {
        "id": "waJODErtUziS"
      }
    },
    {
      "cell_type": "code",
      "execution_count": null,
      "metadata": {
        "id": "mFV4s1Xo9rbq"
      },
      "outputs": [],
      "source": [
        "import numpy as np\n",
        "import pandas as pd\n",
        "import matplotlib.pyplot as plt\n",
        "import sklearn\n",
        "import seaborn as sns\n",
        "#import warning.filter warning ('ignore')\n",
        "#plt.rcParams[\"figure.figaize\"]=[10,5]"
      ]
    },
    {
      "cell_type": "markdown",
      "source": [
        "# Loading **Dataset**"
      ],
      "metadata": {
        "id": "jxTMCcX-VeAK"
      }
    },
    {
      "cell_type": "code",
      "source": [
        "full_data=pd.read_csv(\"/content/sample_data/california_housing_train.csv\")"
      ],
      "metadata": {
        "id": "iFIqxnrt_bUj"
      },
      "execution_count": null,
      "outputs": []
    },
    {
      "cell_type": "code",
      "source": [
        "Dataset checking"
      ],
      "metadata": {
        "id": "usWtheAxVhDG"
      },
      "execution_count": null,
      "outputs": []
    },
    {
      "cell_type": "code",
      "source": [
        "print(full_data)"
      ],
      "metadata": {
        "id": "hSDUsj-dAE2E"
      },
      "execution_count": null,
      "outputs": []
    },
    {
      "cell_type": "code",
      "source": [
        "full_data.head(9)"
      ],
      "metadata": {
        "id": "zSHHuvjWBZHL"
      },
      "execution_count": null,
      "outputs": []
    },
    {
      "source": [
        "\n",
        "from matplotlib import pyplot as plt\n",
        "full_data['latitude'].plot(kind='line', figsize=(8, 4), title='latitude')\n",
        "plt.gca().spines[['top', 'right']].set_visible(False)"
      ],
      "cell_type": "code",
      "execution_count": null,
      "outputs": [],
      "metadata": {
        "id": "ShRt2525Fqr-"
      }
    },
    {
      "cell_type": "code",
      "source": [
        "full_data.info()"
      ],
      "metadata": {
        "id": "LHF6Lq_TBqiO"
      },
      "execution_count": null,
      "outputs": []
    },
    {
      "cell_type": "markdown",
      "source": [
        "# Missing **values**"
      ],
      "metadata": {
        "id": "zSuU7oefVtzK"
      }
    },
    {
      "cell_type": "code",
      "source": [
        "sns.heatmap(full_data.isnull(),yticklabels=False, cbar=False, cmap='tab20c_r')\n",
        "plt.title('Missing Data:Training Set')\n",
        "plt.show()"
      ],
      "metadata": {
        "id": "WCO5Y3eICH5t"
      },
      "execution_count": null,
      "outputs": []
    },
    {
      "cell_type": "code",
      "source": [
        "print(full_data)"
      ],
      "metadata": {
        "id": "VpyTf4RUGEBT"
      },
      "execution_count": null,
      "outputs": []
    },
    {
      "cell_type": "code",
      "source": [
        "full_data.describe()"
      ],
      "metadata": {
        "id": "1d9JzuTiGnU5"
      },
      "execution_count": null,
      "outputs": []
    },
    {
      "cell_type": "code",
      "source": [
        "full_data.shape"
      ],
      "metadata": {
        "id": "JgirjuZPGuKG"
      },
      "execution_count": null,
      "outputs": []
    },
    {
      "cell_type": "code",
      "source": [
        "x=full_data.drop('median_house_value',axis=1)\n",
        "y=full_data['median_house_value']"
      ],
      "metadata": {
        "id": "moeClDafKQLe"
      },
      "execution_count": null,
      "outputs": []
    },
    {
      "cell_type": "code",
      "source": [
        "x.shape"
      ],
      "metadata": {
        "id": "kJm-ZfIkLf4J"
      },
      "execution_count": null,
      "outputs": []
    },
    {
      "cell_type": "code",
      "source": [
        "y.shape"
      ],
      "metadata": {
        "id": "yUMzWExrLjvL"
      },
      "execution_count": null,
      "outputs": []
    },
    {
      "cell_type": "markdown",
      "source": [
        "# **Data spliting**"
      ],
      "metadata": {
        "id": "gjCv3KJnV-kE"
      }
    },
    {
      "cell_type": "code",
      "source": [
        "from sklearn.model_selection import train_test_split\n",
        "x_train,x_test,y_train,y_test=train_test_split(x, y, test_size=0.2,random_state=111)"
      ],
      "metadata": {
        "id": "foRipFfYLp1o"
      },
      "execution_count": null,
      "outputs": []
    },
    {
      "cell_type": "code",
      "source": [
        "x_train.shape"
      ],
      "metadata": {
        "id": "NsS89Rc7Malu"
      },
      "execution_count": null,
      "outputs": []
    },
    {
      "cell_type": "code",
      "source": [
        "y_train.shape"
      ],
      "metadata": {
        "id": "Y2lon0jkMrkX"
      },
      "execution_count": null,
      "outputs": []
    },
    {
      "cell_type": "code",
      "source": [
        "x_test.shape\n",
        "x_test"
      ],
      "metadata": {
        "id": "6jFggOeGN4st"
      },
      "execution_count": null,
      "outputs": []
    },
    {
      "cell_type": "code",
      "source": [
        "y_test.shape\n",
        "y_test\n"
      ],
      "metadata": {
        "id": "hUdgMaVXOHmR"
      },
      "execution_count": null,
      "outputs": []
    },
    {
      "cell_type": "markdown",
      "source": [
        "# Traing the **Model**"
      ],
      "metadata": {
        "id": "TxcMVN9ZWFBL"
      }
    },
    {
      "cell_type": "code",
      "source": [
        "import sklearn\n",
        "from sklearn.linear_model import LinearRegression\n",
        "lin_reg=LinearRegression()\n",
        "lin_reg.fit(x_train,y_train)"
      ],
      "metadata": {
        "id": "91IE67xeOQNN"
      },
      "execution_count": null,
      "outputs": []
    },
    {
      "cell_type": "markdown",
      "source": [
        "# ***Prediction***"
      ],
      "metadata": {
        "id": "pP29UBtXWNfs"
      }
    },
    {
      "cell_type": "code",
      "source": [
        "y_predict=lin_reg.predict(x_test)\n",
        "print(y_predict.shape)\n",
        "print(y_predict)\n",
        "#:accuracy\n",
        "\n",
        "lin_reg.score(x_test, y_test)"
      ],
      "metadata": {
        "id": "nMOvXCvLPERc"
      },
      "execution_count": null,
      "outputs": []
    },
    {
      "cell_type": "code",
      "source": [
        "#MSE\n",
        "from sklearn.metrics import mean_squared_error\n",
        "mse = mean_squared_error(y_test, y_predict)\n",
        "print(\"Mean square Error\", mse)\n"
      ],
      "metadata": {
        "id": "UT78kFggWT8M"
      },
      "execution_count": null,
      "outputs": []
    }
  ]
}
